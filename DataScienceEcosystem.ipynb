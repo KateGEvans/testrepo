{
 "cells": [
  {
   "cell_type": "markdown",
   "id": "8243e192-36e2-45ae-b8e2-fe71fba9e67b",
   "metadata": {},
   "source": [
    "# Data Science Tools and Ecosystem\n"
   ]
  },
  {
   "cell_type": "markdown",
   "id": "2562a41b-61ca-47df-a4c4-cf0967604e94",
   "metadata": {},
   "source": [
    "## Author\n",
    "Kate E."
   ]
  },
  {
   "cell_type": "markdown",
   "id": "ffb9f7f2-2a61-4aaf-83ab-cb890a7cb77f",
   "metadata": {},
   "source": [
    "In this notebook, Data Science Tools and Ecosystem are summarized."
   ]
  },
  {
   "cell_type": "markdown",
   "id": "b6e90b37-6453-485b-97e7-9bb555027490",
   "metadata": {},
   "source": [
    "**Objectives:**\n",
    "- List Popular languages for Data Science\n",
    "- List commonly used libraries for Data Science\n",
    "- Make a table of commonly used tools for Data Science\n",
    "- Give examples of simple arthmetic expressions"
   ]
  },
  {
   "cell_type": "markdown",
   "id": "d123dac7-ac5b-488d-8bc1-cbc0bd06c2ac",
   "metadata": {},
   "source": [
    "Some of the popular languages that Data Scientists use are:\n",
    "1) Python\n",
    "2) R\n",
    "3) SQL"
   ]
  },
  {
   "cell_type": "markdown",
   "id": "37b645c9-fe86-4542-8ea4-e4e53765840b",
   "metadata": {},
   "source": [
    "Some of the commonly used libraries used by Data Scientists include:\n",
    "1) pandas\n",
    "2) ggplot\n",
    "3) scikit-learn"
   ]
  },
  {
   "cell_type": "markdown",
   "id": "2bbeb54f-0939-467d-b7f7-491760f29284",
   "metadata": {},
   "source": [
    "|Data Science Tools|\n",
    "|--------------------|\n",
    "|Jupyter Notebook |\n",
    "|Jupyter Lab |\n",
    "|R Studio |\n",
    "\n"
   ]
  },
  {
   "cell_type": "markdown",
   "id": "0e4850fe-9e8c-4dba-ae25-f931f1e5cacf",
   "metadata": {},
   "source": [
    "Below are a few examples of evaluating arithmetic expressions in Python."
   ]
  },
  {
   "cell_type": "code",
   "execution_count": 1,
   "id": "381e1c60-4922-492a-b555-59152b359c6a",
   "metadata": {},
   "outputs": [
    {
     "data": {
      "text/plain": [
       "17"
      ]
     },
     "execution_count": 1,
     "metadata": {},
     "output_type": "execute_result"
    }
   ],
   "source": [
    "#This a simple arithmetic expression to mutiply then add integers\n",
    "(3*4) + 5"
   ]
  },
  {
   "cell_type": "code",
   "execution_count": 2,
   "id": "276e4f5b-cd55-4b81-96e6-9ae5b4f24061",
   "metadata": {},
   "outputs": [
    {
     "data": {
      "text/plain": [
       "3.3333333333333335"
      ]
     },
     "execution_count": 2,
     "metadata": {},
     "output_type": "execute_result"
    }
   ],
   "source": [
    "#This will convert 200 minutes to hours by dividing by 60\n",
    "200/60"
   ]
  },
  {
   "cell_type": "code",
   "execution_count": null,
   "id": "dfadc3de-d9e8-4f81-a6a6-9c28e1c27bae",
   "metadata": {},
   "outputs": [],
   "source": []
  }
 ],
 "metadata": {
  "kernelspec": {
   "display_name": "Python 3 (ipykernel)",
   "language": "python",
   "name": "python3"
  },
  "language_info": {
   "codemirror_mode": {
    "name": "ipython",
    "version": 3
   },
   "file_extension": ".py",
   "mimetype": "text/x-python",
   "name": "python",
   "nbconvert_exporter": "python",
   "pygments_lexer": "ipython3",
   "version": "3.12.7"
  }
 },
 "nbformat": 4,
 "nbformat_minor": 5
}
